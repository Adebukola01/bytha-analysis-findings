{
 "cells": [
  {
   "cell_type": "markdown",
   "id": "a415c0b5",
   "metadata": {
    "colab_type": "text",
    "id": "view-in-github"
   },
   "source": [
    "<a href=\"https://colab.research.google.com/gist/Muyiiwaa/4429ef0c7c387020993326eb2e7bae4d/bytha_insurance.ipynb\" target=\"_parent\"><img src=\"https://colab.research.google.com/assets/colab-badge.svg\" alt=\"Open In Colab\"/></a>"
   ]
  },
  {
   "cell_type": "code",
   "execution_count": null,
   "id": "initial_id",
   "metadata": {
    "ExecuteTime": {
     "end_time": "2024-07-01T15:00:09.396303Z",
     "start_time": "2024-07-01T15:00:08.469016Z"
    },
    "collapsed": true,
    "id": "initial_id",
    "jupyter": {
     "outputs_hidden": true
    }
   },
   "outputs": [],
   "source": [
    "import pandas as pd # data manipulation\n",
    "import numpy as np # numerical computing\n",
    "import seaborn as sns # high level data visualization\n",
    "import matplotlib.pyplot as plt # robust data viz\n",
    "import plotly.express as px # interactive data viz"
   ]
  },
  {
   "cell_type": "markdown",
   "id": "f85a39db049e95b9",
   "metadata": {
    "id": "f85a39db049e95b9"
   },
   "source": [
    "### Load dataset"
   ]
  },
  {
   "cell_type": "code",
   "execution_count": null,
   "id": "d8c7f23785018a30",
   "metadata": {
    "ExecuteTime": {
     "end_time": "2024-07-01T15:01:50.776854Z",
     "start_time": "2024-07-01T15:01:49.938454Z"
    },
    "id": "d8c7f23785018a30"
   },
   "outputs": [],
   "source": [
    "bytha_df = pd.read_csv('Insurance Policies.csv')"
   ]
  },
  {
   "cell_type": "code",
   "execution_count": null,
   "id": "c8259b7aaf72f67d",
   "metadata": {
    "ExecuteTime": {
     "end_time": "2024-07-01T15:02:14.093400Z",
     "start_time": "2024-07-01T15:02:14.061716Z"
    },
    "id": "c8259b7aaf72f67d",
    "outputId": "4aea868a-3fb3-4115-e4ca-2f4c43800fc0"
   },
   "outputs": [
    {
     "data": {
      "text/html": [
       "<div>\n",
       "<style scoped>\n",
       "    .dataframe tbody tr th:only-of-type {\n",
       "        vertical-align: middle;\n",
       "    }\n",
       "\n",
       "    .dataframe tbody tr th {\n",
       "        vertical-align: top;\n",
       "    }\n",
       "\n",
       "    .dataframe thead th {\n",
       "        text-align: right;\n",
       "    }\n",
       "</style>\n",
       "<table border=\"1\" class=\"dataframe\">\n",
       "  <thead>\n",
       "    <tr style=\"text-align: right;\">\n",
       "      <th></th>\n",
       "      <th>ID</th>\n",
       "      <th>birthdate</th>\n",
       "      <th>marital_status</th>\n",
       "      <th>car_use</th>\n",
       "      <th>gender</th>\n",
       "      <th>kids_driving</th>\n",
       "      <th>parent</th>\n",
       "      <th>education</th>\n",
       "      <th>car_make</th>\n",
       "      <th>car_model</th>\n",
       "      <th>car_color</th>\n",
       "      <th>car_year</th>\n",
       "      <th>claim_freq</th>\n",
       "      <th>coverage_zone</th>\n",
       "      <th>claim_amt</th>\n",
       "      <th>household_income</th>\n",
       "    </tr>\n",
       "  </thead>\n",
       "  <tbody>\n",
       "    <tr>\n",
       "      <th>0</th>\n",
       "      <td>62-2999778</td>\n",
       "      <td>8/9/1962</td>\n",
       "      <td>Single</td>\n",
       "      <td>Private</td>\n",
       "      <td>Male</td>\n",
       "      <td>2</td>\n",
       "      <td>Yes</td>\n",
       "      <td>High School</td>\n",
       "      <td>Acura</td>\n",
       "      <td>TSX</td>\n",
       "      <td>Green</td>\n",
       "      <td>2010</td>\n",
       "      <td>1</td>\n",
       "      <td>Highly Urban</td>\n",
       "      <td>$73759.88</td>\n",
       "      <td>$220436.66</td>\n",
       "    </tr>\n",
       "    <tr>\n",
       "      <th>1</th>\n",
       "      <td>70-2426103</td>\n",
       "      <td>4/21/1988</td>\n",
       "      <td>Married</td>\n",
       "      <td>Private</td>\n",
       "      <td>Female</td>\n",
       "      <td>0</td>\n",
       "      <td>No</td>\n",
       "      <td>Bachelors</td>\n",
       "      <td>Corbin</td>\n",
       "      <td>Sparrow</td>\n",
       "      <td>Turquoise</td>\n",
       "      <td>2004</td>\n",
       "      <td>1</td>\n",
       "      <td>Urban</td>\n",
       "      <td>$78975.41</td>\n",
       "      <td>$66491.43</td>\n",
       "    </tr>\n",
       "    <tr>\n",
       "      <th>2</th>\n",
       "      <td>08-3808219</td>\n",
       "      <td>3/8/1999</td>\n",
       "      <td>Divorced</td>\n",
       "      <td>Private</td>\n",
       "      <td>Male</td>\n",
       "      <td>0</td>\n",
       "      <td>No</td>\n",
       "      <td>Bachelors</td>\n",
       "      <td>Nissan</td>\n",
       "      <td>Pathfinder</td>\n",
       "      <td>Orange</td>\n",
       "      <td>1993</td>\n",
       "      <td>0</td>\n",
       "      <td>Rural</td>\n",
       "      <td>$30904.01</td>\n",
       "      <td>$56122.70</td>\n",
       "    </tr>\n",
       "    <tr>\n",
       "      <th>3</th>\n",
       "      <td>38-0306843</td>\n",
       "      <td>5/10/1959</td>\n",
       "      <td>Single</td>\n",
       "      <td>Private</td>\n",
       "      <td>Female</td>\n",
       "      <td>0</td>\n",
       "      <td>No</td>\n",
       "      <td>Bachelors</td>\n",
       "      <td>Ford</td>\n",
       "      <td>Econoline E350</td>\n",
       "      <td>Pink</td>\n",
       "      <td>2000</td>\n",
       "      <td>1</td>\n",
       "      <td>Highly Urban</td>\n",
       "      <td>$30257.82</td>\n",
       "      <td>$175182.61</td>\n",
       "    </tr>\n",
       "    <tr>\n",
       "      <th>4</th>\n",
       "      <td>47-5163637</td>\n",
       "      <td>1/15/1992</td>\n",
       "      <td>Single</td>\n",
       "      <td>Commercial</td>\n",
       "      <td>Male</td>\n",
       "      <td>0</td>\n",
       "      <td>No</td>\n",
       "      <td>Masters</td>\n",
       "      <td>Nissan</td>\n",
       "      <td>350Z</td>\n",
       "      <td>Green</td>\n",
       "      <td>2006</td>\n",
       "      <td>3</td>\n",
       "      <td>Rural</td>\n",
       "      <td>$50434.02</td>\n",
       "      <td>$137110.23</td>\n",
       "    </tr>\n",
       "    <tr>\n",
       "      <th>5</th>\n",
       "      <td>07-4760971</td>\n",
       "      <td>11/6/1963</td>\n",
       "      <td>Single</td>\n",
       "      <td>Private</td>\n",
       "      <td>Male</td>\n",
       "      <td>1</td>\n",
       "      <td>Yes</td>\n",
       "      <td>PhD</td>\n",
       "      <td>Mercedes-Benz</td>\n",
       "      <td>CLK-Class</td>\n",
       "      <td>Maroon</td>\n",
       "      <td>1999</td>\n",
       "      <td>3</td>\n",
       "      <td>Rural</td>\n",
       "      <td>$71935.14</td>\n",
       "      <td>$212072.46</td>\n",
       "    </tr>\n",
       "    <tr>\n",
       "      <th>6</th>\n",
       "      <td>36-8207139</td>\n",
       "      <td>8/27/1999</td>\n",
       "      <td>Single</td>\n",
       "      <td>Private</td>\n",
       "      <td>Male</td>\n",
       "      <td>0</td>\n",
       "      <td>No</td>\n",
       "      <td>High School</td>\n",
       "      <td>Toyota</td>\n",
       "      <td>Matrix</td>\n",
       "      <td>Yellow</td>\n",
       "      <td>2006</td>\n",
       "      <td>0</td>\n",
       "      <td>Rural</td>\n",
       "      <td>$21611.15</td>\n",
       "      <td>$87875.66</td>\n",
       "    </tr>\n",
       "  </tbody>\n",
       "</table>\n",
       "</div>"
      ],
      "text/plain": [
       "           ID  birthdate marital_status     car_use  gender  kids_driving  \\\n",
       "0  62-2999778   8/9/1962         Single     Private    Male             2   \n",
       "1  70-2426103  4/21/1988        Married     Private  Female             0   \n",
       "2  08-3808219   3/8/1999       Divorced     Private    Male             0   \n",
       "3  38-0306843  5/10/1959         Single     Private  Female             0   \n",
       "4  47-5163637  1/15/1992         Single  Commercial    Male             0   \n",
       "5  07-4760971  11/6/1963         Single     Private    Male             1   \n",
       "6  36-8207139  8/27/1999         Single     Private    Male             0   \n",
       "\n",
       "  parent    education       car_make       car_model  car_color  car_year  \\\n",
       "0    Yes  High School          Acura             TSX      Green      2010   \n",
       "1     No    Bachelors         Corbin         Sparrow  Turquoise      2004   \n",
       "2     No    Bachelors         Nissan      Pathfinder     Orange      1993   \n",
       "3     No    Bachelors           Ford  Econoline E350       Pink      2000   \n",
       "4     No      Masters         Nissan            350Z      Green      2006   \n",
       "5    Yes          PhD  Mercedes-Benz       CLK-Class     Maroon      1999   \n",
       "6     No  High School         Toyota          Matrix     Yellow      2006   \n",
       "\n",
       "   claim_freq coverage_zone  claim_amt household_income  \n",
       "0           1  Highly Urban  $73759.88       $220436.66  \n",
       "1           1         Urban  $78975.41        $66491.43  \n",
       "2           0         Rural  $30904.01        $56122.70  \n",
       "3           1  Highly Urban  $30257.82       $175182.61  \n",
       "4           3         Rural  $50434.02       $137110.23  \n",
       "5           3         Rural  $71935.14       $212072.46  \n",
       "6           0         Rural  $21611.15        $87875.66  "
      ]
     },
     "execution_count": 3,
     "metadata": {},
     "output_type": "execute_result"
    }
   ],
   "source": [
    "bytha_df.head(7)"
   ]
  },
  {
   "cell_type": "markdown",
   "id": "2c0e5bff802a3f7f",
   "metadata": {
    "id": "2c0e5bff802a3f7f"
   },
   "source": [
    "### Data Cleaning\n",
    "\n",
    "1. Remove dollar sign from household column and claim\n",
    "2. car age\n",
    "3. age of the claimant\n",
    "4. drop ID column\n",
    "5. Inspect and handle null values\n",
    "6. handle data type inconsistencies"
   ]
  },
  {
   "cell_type": "code",
   "execution_count": null,
   "id": "67a97260e8f577b2",
   "metadata": {
    "ExecuteTime": {
     "end_time": "2024-07-01T15:20:12.905596Z",
     "start_time": "2024-07-01T15:20:12.768439Z"
    },
    "id": "67a97260e8f577b2",
    "outputId": "aaef9c55-69d1-4317-bd5a-0897c4f3d4af"
   },
   "outputs": [
    {
     "name": "stderr",
     "output_type": "stream",
     "text": [
      "C:\\Users\\hp\\AppData\\Local\\Temp\\ipykernel_6932\\3716680054.py:1: FutureWarning: The default value of regex will change from True to False in a future version. In addition, single character regular expressions will *not* be treated as literal strings when regex=True.\n",
      "  bytha_df['claim_amt'] = bytha_df['claim_amt'].str.replace('$', '')\n",
      "C:\\Users\\hp\\AppData\\Local\\Temp\\ipykernel_6932\\3716680054.py:2: FutureWarning: The default value of regex will change from True to False in a future version. In addition, single character regular expressions will *not* be treated as literal strings when regex=True.\n",
      "  bytha_df['household_income'] = bytha_df['household_income'].str.replace('$', '')\n"
     ]
    }
   ],
   "source": [
    "bytha_df['claim_amt'] = bytha_df['claim_amt'].str.replace('$', '')\n",
    "bytha_df['household_income'] = bytha_df['household_income'].str.replace('$', '')"
   ]
  },
  {
   "cell_type": "code",
   "execution_count": null,
   "id": "c57526cbf634ea9b",
   "metadata": {
    "ExecuteTime": {
     "end_time": "2024-07-01T15:23:59.601506Z",
     "start_time": "2024-07-01T15:23:59.592928Z"
    },
    "id": "c57526cbf634ea9b"
   },
   "outputs": [],
   "source": [
    "# create car age column\n",
    "bytha_df['car_age'] = 2024 - bytha_df['car_year']"
   ]
  },
  {
   "cell_type": "code",
   "execution_count": null,
   "id": "1cff77a69903e985",
   "metadata": {
    "ExecuteTime": {
     "end_time": "2024-07-01T15:49:35.416080Z",
     "start_time": "2024-07-01T15:49:35.308018Z"
    },
    "id": "1cff77a69903e985"
   },
   "outputs": [],
   "source": [
    "# create claimant age column\n",
    "\n",
    "bytha_df['birthdate'] = pd.to_datetime(bytha_df['birthdate'])\n",
    "bytha_df['age'] = [2024 - x.year for x in bytha_df['birthdate']]"
   ]
  },
  {
   "cell_type": "code",
   "execution_count": null,
   "id": "3b942d5c412f1ca2",
   "metadata": {
    "ExecuteTime": {
     "end_time": "2024-07-01T15:49:46.715918Z",
     "start_time": "2024-07-01T15:49:46.679355Z"
    },
    "id": "3b942d5c412f1ca2",
    "outputId": "b5faecdd-efdb-4c9d-9161-dd3c900a2769"
   },
   "outputs": [
    {
     "data": {
      "text/html": [
       "<div>\n",
       "<style scoped>\n",
       "    .dataframe tbody tr th:only-of-type {\n",
       "        vertical-align: middle;\n",
       "    }\n",
       "\n",
       "    .dataframe tbody tr th {\n",
       "        vertical-align: top;\n",
       "    }\n",
       "\n",
       "    .dataframe thead th {\n",
       "        text-align: right;\n",
       "    }\n",
       "</style>\n",
       "<table border=\"1\" class=\"dataframe\">\n",
       "  <thead>\n",
       "    <tr style=\"text-align: right;\">\n",
       "      <th></th>\n",
       "      <th>ID</th>\n",
       "      <th>birthdate</th>\n",
       "      <th>marital_status</th>\n",
       "      <th>car_use</th>\n",
       "      <th>gender</th>\n",
       "      <th>kids_driving</th>\n",
       "      <th>parent</th>\n",
       "      <th>education</th>\n",
       "      <th>car_make</th>\n",
       "      <th>car_model</th>\n",
       "      <th>car_color</th>\n",
       "      <th>car_year</th>\n",
       "      <th>claim_freq</th>\n",
       "      <th>coverage_zone</th>\n",
       "      <th>claim_amt</th>\n",
       "      <th>household_income</th>\n",
       "      <th>car_age</th>\n",
       "      <th>age</th>\n",
       "    </tr>\n",
       "  </thead>\n",
       "  <tbody>\n",
       "    <tr>\n",
       "      <th>0</th>\n",
       "      <td>62-2999778</td>\n",
       "      <td>1962-08-09</td>\n",
       "      <td>Single</td>\n",
       "      <td>Private</td>\n",
       "      <td>Male</td>\n",
       "      <td>2</td>\n",
       "      <td>Yes</td>\n",
       "      <td>High School</td>\n",
       "      <td>Acura</td>\n",
       "      <td>TSX</td>\n",
       "      <td>Green</td>\n",
       "      <td>2010</td>\n",
       "      <td>1</td>\n",
       "      <td>Highly Urban</td>\n",
       "      <td>73759.88</td>\n",
       "      <td>220436.66</td>\n",
       "      <td>14</td>\n",
       "      <td>62</td>\n",
       "    </tr>\n",
       "    <tr>\n",
       "      <th>1</th>\n",
       "      <td>70-2426103</td>\n",
       "      <td>1988-04-21</td>\n",
       "      <td>Married</td>\n",
       "      <td>Private</td>\n",
       "      <td>Female</td>\n",
       "      <td>0</td>\n",
       "      <td>No</td>\n",
       "      <td>Bachelors</td>\n",
       "      <td>Corbin</td>\n",
       "      <td>Sparrow</td>\n",
       "      <td>Turquoise</td>\n",
       "      <td>2004</td>\n",
       "      <td>1</td>\n",
       "      <td>Urban</td>\n",
       "      <td>78975.41</td>\n",
       "      <td>66491.43</td>\n",
       "      <td>20</td>\n",
       "      <td>36</td>\n",
       "    </tr>\n",
       "    <tr>\n",
       "      <th>2</th>\n",
       "      <td>08-3808219</td>\n",
       "      <td>1999-03-08</td>\n",
       "      <td>Divorced</td>\n",
       "      <td>Private</td>\n",
       "      <td>Male</td>\n",
       "      <td>0</td>\n",
       "      <td>No</td>\n",
       "      <td>Bachelors</td>\n",
       "      <td>Nissan</td>\n",
       "      <td>Pathfinder</td>\n",
       "      <td>Orange</td>\n",
       "      <td>1993</td>\n",
       "      <td>0</td>\n",
       "      <td>Rural</td>\n",
       "      <td>30904.01</td>\n",
       "      <td>56122.70</td>\n",
       "      <td>31</td>\n",
       "      <td>25</td>\n",
       "    </tr>\n",
       "    <tr>\n",
       "      <th>3</th>\n",
       "      <td>38-0306843</td>\n",
       "      <td>1959-05-10</td>\n",
       "      <td>Single</td>\n",
       "      <td>Private</td>\n",
       "      <td>Female</td>\n",
       "      <td>0</td>\n",
       "      <td>No</td>\n",
       "      <td>Bachelors</td>\n",
       "      <td>Ford</td>\n",
       "      <td>Econoline E350</td>\n",
       "      <td>Pink</td>\n",
       "      <td>2000</td>\n",
       "      <td>1</td>\n",
       "      <td>Highly Urban</td>\n",
       "      <td>30257.82</td>\n",
       "      <td>175182.61</td>\n",
       "      <td>24</td>\n",
       "      <td>65</td>\n",
       "    </tr>\n",
       "    <tr>\n",
       "      <th>4</th>\n",
       "      <td>47-5163637</td>\n",
       "      <td>1992-01-15</td>\n",
       "      <td>Single</td>\n",
       "      <td>Commercial</td>\n",
       "      <td>Male</td>\n",
       "      <td>0</td>\n",
       "      <td>No</td>\n",
       "      <td>Masters</td>\n",
       "      <td>Nissan</td>\n",
       "      <td>350Z</td>\n",
       "      <td>Green</td>\n",
       "      <td>2006</td>\n",
       "      <td>3</td>\n",
       "      <td>Rural</td>\n",
       "      <td>50434.02</td>\n",
       "      <td>137110.23</td>\n",
       "      <td>18</td>\n",
       "      <td>32</td>\n",
       "    </tr>\n",
       "  </tbody>\n",
       "</table>\n",
       "</div>"
      ],
      "text/plain": [
       "           ID  birthdate marital_status     car_use  gender  kids_driving  \\\n",
       "0  62-2999778 1962-08-09         Single     Private    Male             2   \n",
       "1  70-2426103 1988-04-21        Married     Private  Female             0   \n",
       "2  08-3808219 1999-03-08       Divorced     Private    Male             0   \n",
       "3  38-0306843 1959-05-10         Single     Private  Female             0   \n",
       "4  47-5163637 1992-01-15         Single  Commercial    Male             0   \n",
       "\n",
       "  parent    education car_make       car_model  car_color  car_year  \\\n",
       "0    Yes  High School    Acura             TSX      Green      2010   \n",
       "1     No    Bachelors   Corbin         Sparrow  Turquoise      2004   \n",
       "2     No    Bachelors   Nissan      Pathfinder     Orange      1993   \n",
       "3     No    Bachelors     Ford  Econoline E350       Pink      2000   \n",
       "4     No      Masters   Nissan            350Z      Green      2006   \n",
       "\n",
       "   claim_freq coverage_zone claim_amt household_income  car_age  age  \n",
       "0           1  Highly Urban  73759.88        220436.66       14   62  \n",
       "1           1         Urban  78975.41         66491.43       20   36  \n",
       "2           0         Rural  30904.01         56122.70       31   25  \n",
       "3           1  Highly Urban  30257.82        175182.61       24   65  \n",
       "4           3         Rural  50434.02        137110.23       18   32  "
      ]
     },
     "execution_count": 7,
     "metadata": {},
     "output_type": "execute_result"
    }
   ],
   "source": [
    "bytha_df.head()"
   ]
  },
  {
   "cell_type": "code",
   "execution_count": null,
   "id": "b085a7e4abbacf9e",
   "metadata": {
    "ExecuteTime": {
     "end_time": "2024-07-01T15:53:01.314923Z",
     "start_time": "2024-07-01T15:53:01.292035Z"
    },
    "id": "b085a7e4abbacf9e"
   },
   "outputs": [],
   "source": [
    "# drop redundant columns\n",
    "\n",
    "bytha_df.drop(columns=['ID','birthdate','car_year'], inplace=True)"
   ]
  },
  {
   "cell_type": "code",
   "execution_count": null,
   "id": "e8a1f2fcb64f8f84",
   "metadata": {
    "ExecuteTime": {
     "end_time": "2024-07-01T15:54:08.737823Z",
     "start_time": "2024-07-01T15:54:08.633466Z"
    },
    "id": "e8a1f2fcb64f8f84",
    "outputId": "fe660ea2-cdcd-4c3d-ad42-0106773b6dd9"
   },
   "outputs": [
    {
     "data": {
      "text/plain": [
       "marital_status      0\n",
       "car_use             0\n",
       "gender              0\n",
       "kids_driving        0\n",
       "parent              0\n",
       "education           0\n",
       "car_make            0\n",
       "car_model           0\n",
       "car_color           0\n",
       "claim_freq          0\n",
       "coverage_zone       0\n",
       "claim_amt           0\n",
       "household_income    0\n",
       "car_age             0\n",
       "age                 0\n",
       "dtype: int64"
      ]
     },
     "execution_count": 9,
     "metadata": {},
     "output_type": "execute_result"
    }
   ],
   "source": [
    "#inspect null values\n",
    "bytha_df.isnull().sum()"
   ]
  },
  {
   "cell_type": "code",
   "execution_count": null,
   "id": "1674294442f2e44d",
   "metadata": {
    "ExecuteTime": {
     "end_time": "2024-07-01T15:57:08.966779Z",
     "start_time": "2024-07-01T15:57:08.833310Z"
    },
    "id": "1674294442f2e44d",
    "outputId": "89161f1c-b943-4a05-f520-fed7f5565f61"
   },
   "outputs": [
    {
     "name": "stdout",
     "output_type": "stream",
     "text": [
      "<class 'pandas.core.frame.DataFrame'>\n",
      "RangeIndex: 37542 entries, 0 to 37541\n",
      "Data columns (total 15 columns):\n",
      " #   Column            Non-Null Count  Dtype \n",
      "---  ------            --------------  ----- \n",
      " 0   marital_status    37542 non-null  object\n",
      " 1   car_use           37542 non-null  object\n",
      " 2   gender            37542 non-null  object\n",
      " 3   kids_driving      37542 non-null  int64 \n",
      " 4   parent            37542 non-null  object\n",
      " 5   education         37542 non-null  object\n",
      " 6   car_make          37542 non-null  object\n",
      " 7   car_model         37542 non-null  object\n",
      " 8   car_color         37542 non-null  object\n",
      " 9   claim_freq        37542 non-null  int64 \n",
      " 10  coverage_zone     37542 non-null  object\n",
      " 11  claim_amt         37542 non-null  object\n",
      " 12  household_income  37542 non-null  object\n",
      " 13  car_age           37542 non-null  int64 \n",
      " 14  age               37542 non-null  int64 \n",
      "dtypes: int64(4), object(11)\n",
      "memory usage: 4.3+ MB\n"
     ]
    }
   ],
   "source": [
    "bytha_df.info() # check datatype"
   ]
  },
  {
   "cell_type": "code",
   "execution_count": null,
   "id": "8941d724daade184",
   "metadata": {
    "ExecuteTime": {
     "end_time": "2024-07-01T15:57:04.392236Z",
     "start_time": "2024-07-01T15:57:04.339692Z"
    },
    "id": "8941d724daade184"
   },
   "outputs": [],
   "source": [
    "bytha_df['claim_amt'] = pd.to_numeric(bytha_df['claim_amt'])\n",
    "bytha_df['household_income'] = pd.to_numeric(bytha_df['household_income'])"
   ]
  },
  {
   "cell_type": "markdown",
   "id": "c43336c9cc0c2c92",
   "metadata": {
    "id": "c43336c9cc0c2c92"
   },
   "source": [
    "### EXPLORATORY DATA ANALYSIS"
   ]
  },
  {
   "cell_type": "code",
   "execution_count": null,
   "id": "c79bda505b074f4e",
   "metadata": {
    "ExecuteTime": {
     "end_time": "2024-07-01T16:11:23.570536Z",
     "start_time": "2024-07-01T16:11:20.785201Z"
    },
    "id": "c79bda505b074f4e",
    "outputId": "3240ce02-5970-4d64-93de-3bf837e60572"
   },
   "outputs": [
    {
     "data": {
      "text/plain": [
       "Text(0.5, 0.98, 'Average claim frequencies and amounts for different demographic groups ')"
      ]
     },
     "execution_count": 12,
     "metadata": {},
     "output_type": "execute_result"
    },
    {
     "data": {
      "image/png": "[encoded data removed]",
      "text/plain": [
       "<Figure size 2000x1000 with 2 Axes>"
      ]
     },
     "metadata": {},
     "output_type": "display_data"
    }
   ],
   "source": [
    "fig, axes = plt.subplots(nrows=1,ncols=2, figsize=(20,10))\n",
    "sns.barplot(data=bytha_df, x = 'gender', y = 'claim_freq', ax = axes[0])\n",
    "sns.barplot(data=bytha_df, x = 'marital_status', y = 'claim_freq', ax = axes[1])\n",
    "\n",
    "axes[0].set_title('Claim Frequency vs Gender')\n",
    "axes[1].set_title('Claim Frequency vs Marital Status')\n",
    "\n",
    "plt.suptitle('Average claim frequencies and amounts for different demographic groups ')"
   ]
  },
  {
   "cell_type": "code",
   "execution_count": null,
   "id": "b2e186823b90bfab",
   "metadata": {
    "ExecuteTime": {
     "end_time": "2024-07-01T16:09:05.490079Z",
     "start_time": "2024-07-01T16:09:05.485536Z"
    },
    "id": "b2e186823b90bfab"
   },
   "outputs": [],
   "source": [
    "## hypothesis testing\n",
    "\n",
    "\n",
    "def decision_rule(p_value, variables):\n",
    "    null = f'At p-value = {p_value}, there is no significant difference in {variables[0]} across {variables[1]}'\n",
    "    alternative = f'At p-value = {p_value},there is significant difference in {variables[0]} across {variables[1]}'\n",
    "    if p_value < 0.05:\n",
    "        return alternative\n",
    "    else:\n",
    "        return null\n",
    "\n",
    "from scipy.stats import ttest_ind\n",
    "from scipy.stats import f_oneway\n",
    "from scipy.stats import kruskal\n",
    "from scipy.stats import chi2_contingency"
   ]
  },
  {
   "cell_type": "markdown",
   "id": "44ab034e",
   "metadata": {
    "id": "44ab034e"
   },
   "source": [
    "#### one way anova test for difference in claim frequency vs gender"
   ]
  },
  {
   "cell_type": "code",
   "execution_count": null,
   "id": "59325bb5a01304c8",
   "metadata": {
    "ExecuteTime": {
     "end_time": "2024-07-01T16:05:23.137025Z",
     "start_time": "2024-07-01T16:05:23.124830Z"
    },
    "id": "59325bb5a01304c8",
    "outputId": "9aa13571-9a95-45e0-af02-413e00eea660"
   },
   "outputs": [
    {
     "name": "stdout",
     "output_type": "stream",
     "text": [
      "At p-value = 0.1513805108043201, there is no significant difference in claim frequency across marital status\n"
     ]
    }
   ],
   "source": [
    "single = bytha_df[bytha_df['marital_status'] == 'Single']['claim_freq'].values\n",
    "married = bytha_df[bytha_df['marital_status'] == 'Married']['claim_freq'].values\n",
    "divorced = bytha_df[bytha_df['marital_status'] == 'Divorced']['claim_freq'].values\n",
    "seperated = bytha_df[bytha_df['marital_status'] == 'Seperated']['claim_freq'].values\n",
    "\n",
    "f_value, p_value = f_oneway(single,married,divorced,seperated)\n",
    "\n",
    "print(decision_rule(p_value, ['claim frequency', 'marital status']))"
   ]
  },
  {
   "cell_type": "markdown",
   "id": "931957d6",
   "metadata": {
    "id": "931957d6"
   },
   "source": [
    "FINDINGS;\n",
    "The p-value for the ANOVA test is 0.151381. The p-value of 0.151381 is greater than the significance level of 0.05. Therefore, we fail to reject the null hypothesis and conclude that there is no significant difference in claim frequency across different marital status.Based on the One-Way ANOVA analysis, no evidence to suggest that marital status has a significant impact on claim frequency. Therefore, it is concluded that the null hypothesis is true, and there is no significant difference in claim frequency across different marital status.\n",
    "Given the findings that marital status does not significantly impact claim frequency, it is recommended that bytha insurance policies and premium rates should not be adjusted or differentiated based solely on the marital status of the policyholders. Instead, the focus should be directed towards other factors that may have a more substantial impact on claim frequency. \n"
   ]
  },
  {
   "cell_type": "markdown",
   "id": "d4e64360fa00aa84",
   "metadata": {
    "id": "d4e64360fa00aa84"
   },
   "source": [
    "#### Chi-Square test of association in claim frequency vs gender\n",
    "\n"
   ]
  },
  {
   "cell_type": "code",
   "execution_count": null,
   "id": "45869a4d",
   "metadata": {
    "id": "45869a4d"
   },
   "outputs": [],
   "source": [
    "bytha_df['claim_cat'] = ['low' if x < 2 else 'medium' if x < 4\n",
    "                         else 'high' for x in bytha_df['claim_freq']]"
   ]
  },
  {
   "cell_type": "code",
   "execution_count": null,
   "id": "68cfbdff",
   "metadata": {
    "id": "68cfbdff",
    "outputId": "5555b5c1-ae63-4658-ce44-60c992a63480"
   },
   "outputs": [
    {
     "name": "stdout",
     "output_type": "stream",
     "text": [
      "At p-value = 0.7678854051864302, there is no significant difference in gender across claim frequency\n"
     ]
    }
   ],
   "source": [
    "claim_gender = pd.crosstab(bytha_df['gender'], bytha_df['claim_cat'])\n",
    "chi_stats, p_value, dof, exp = chi2_contingency(claim_gender)\n",
    "\n",
    "print(decision_rule(p_value, ['gender', 'claim frequency']))"
   ]
  },
  {
   "cell_type": "markdown",
   "id": "c1d7c8e7",
   "metadata": {
    "id": "c1d7c8e7"
   },
   "source": [
    "FINDINDS;\n",
    "Based on the chi-square test results, the null hypoyhesis is accepted and the alternative hypothesis is rejected. This suggests that there is no statistically significant association/ difference in gender across claim frequency.The chi-square test of independence shows no statistically significant difference in  gender across claim frequency, with a p-value of 0.7678854051864302(p > 0.05). Given the finding that gender does not significantly impact claim frequency, it is recommended that gender should not be used as a primary factor in determining insurance premiums or risk assessment. Instead, focus on other variables that might provide more insight into claim frequency. Continuous review and analyze other demographic or behavioral factors that could more accurately predict claim frequency and improve risk assessment models."
   ]
  },
  {
   "cell_type": "code",
   "execution_count": null,
   "id": "2bd41cea",
   "metadata": {
    "id": "2bd41cea"
   },
   "outputs": [],
   "source": []
  }
 ],
 "metadata": {
  "colab": {
   "include_colab_link": true,
   "provenance": []
  },
  "kernelspec": {
   "display_name": "Python 3 (ipykernel)",
   "language": "python",
   "name": "python3"
  },
  "language_info": {
   "codemirror_mode": {
    "name": "ipython",
    "version": 3
   },
   "file_extension": ".py",
   "mimetype": "text/x-python",
   "name": "python",
   "nbconvert_exporter": "python",
   "pygments_lexer": "ipython3",
   "version": "3.11.7"
  }
 },
 "nbformat": 4,
 "nbformat_minor": 5
}
